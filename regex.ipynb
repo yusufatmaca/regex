{
 "cells": [
  {
   "cell_type": "code",
   "execution_count": 86,
   "metadata": {},
   "outputs": [
    {
     "name": "stdout",
     "output_type": "stream",
     "text": [
      "Enter the word: \n",
      "It's not a regex!\n"
     ]
    }
   ],
   "source": [
    "print (\"Enter the word: \")\n",
    "word = input()\n",
    "a = False\n",
    "b = False\n",
    "\n",
    "for i in range (0, len(word)):\n",
    "    if word[i] == \"0\" or word[i] == \"1\":\n",
    "        a = True\n",
    "    else:\n",
    "        a = False\n",
    "        break\n",
    "\n",
    "if (a == True):\n",
    "    for i in range (2, len(word)-1):\n",
    "        if (word[i] == \"0\"):\n",
    "            b = True\n",
    "        else:\n",
    "            b = False\n",
    "            break\n",
    "\n",
    "if (a == True and b == True):\n",
    "    print(\"It's a regex!\")\n",
    "else:\n",
    "    print(\"It's not a regex!\")    "
   ]
  }
 ],
 "metadata": {
  "kernelspec": {
   "display_name": "Python 3.10.7 64-bit",
   "language": "python",
   "name": "python3"
  },
  "language_info": {
   "codemirror_mode": {
    "name": "ipython",
    "version": 3
   },
   "file_extension": ".py",
   "mimetype": "text/x-python",
   "name": "python",
   "nbconvert_exporter": "python",
   "pygments_lexer": "ipython3",
   "version": "3.10.7"
  },
  "orig_nbformat": 4,
  "vscode": {
   "interpreter": {
    "hash": "d64b78e8d7bac19a4395ef8119f7ef621de2f609eabe0811999f3153793e83d7"
   }
  }
 },
 "nbformat": 4,
 "nbformat_minor": 2
}
